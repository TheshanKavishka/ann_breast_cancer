{
  "nbformat": 4,
  "nbformat_minor": 0,
  "metadata": {
    "colab": {
      "provenance": []
    },
    "kernelspec": {
      "name": "python3",
      "display_name": "Python 3"
    },
    "language_info": {
      "name": "python"
    }
  },
  "cells": [
    {
      "cell_type": "code",
      "execution_count": 53,
      "metadata": {
        "id": "X1USK7UwgnwI"
      },
      "outputs": [],
      "source": [
        "import pandas as pd\n",
        "import numpy as np\n",
        "import matplotlib.pyplot as plt\n",
        "import seaborn as sns\n",
        "from sklearn.model_selection import train_test_split\n",
        "from sklearn.datasets import load_breast_cancer\n",
        "from sklearn.preprocessing import StandardScaler\n",
        "from sklearn.metrics import confusion_matrix, classification_report"
      ]
    },
    {
      "cell_type": "code",
      "source": [
        "dataset = load_breast_cancer()"
      ],
      "metadata": {
        "id": "vPbluq88g3vl"
      },
      "execution_count": 54,
      "outputs": []
    },
    {
      "cell_type": "code",
      "source": [
        "data = pd.DataFrame(dataset.data, columns=dataset.feature_names)"
      ],
      "metadata": {
        "id": "WzzO5PhchFVX"
      },
      "execution_count": 55,
      "outputs": []
    },
    {
      "cell_type": "code",
      "source": [
        "data.head()"
      ],
      "metadata": {
        "colab": {
          "base_uri": "https://localhost:8080/",
          "height": 290
        },
        "id": "3CpWy8XLhODI",
        "outputId": "0de05903-e31b-4bb3-8d8f-a79e6a3d150a"
      },
      "execution_count": 56,
      "outputs": [
        {
          "output_type": "execute_result",
          "data": {
            "text/plain": [
              "   mean radius  mean texture  mean perimeter  mean area  mean smoothness  \\\n",
              "0        17.99         10.38          122.80     1001.0          0.11840   \n",
              "1        20.57         17.77          132.90     1326.0          0.08474   \n",
              "2        19.69         21.25          130.00     1203.0          0.10960   \n",
              "3        11.42         20.38           77.58      386.1          0.14250   \n",
              "4        20.29         14.34          135.10     1297.0          0.10030   \n",
              "\n",
              "   mean compactness  mean concavity  mean concave points  mean symmetry  \\\n",
              "0           0.27760          0.3001              0.14710         0.2419   \n",
              "1           0.07864          0.0869              0.07017         0.1812   \n",
              "2           0.15990          0.1974              0.12790         0.2069   \n",
              "3           0.28390          0.2414              0.10520         0.2597   \n",
              "4           0.13280          0.1980              0.10430         0.1809   \n",
              "\n",
              "   mean fractal dimension  ...  worst radius  worst texture  worst perimeter  \\\n",
              "0                 0.07871  ...         25.38          17.33           184.60   \n",
              "1                 0.05667  ...         24.99          23.41           158.80   \n",
              "2                 0.05999  ...         23.57          25.53           152.50   \n",
              "3                 0.09744  ...         14.91          26.50            98.87   \n",
              "4                 0.05883  ...         22.54          16.67           152.20   \n",
              "\n",
              "   worst area  worst smoothness  worst compactness  worst concavity  \\\n",
              "0      2019.0            0.1622             0.6656           0.7119   \n",
              "1      1956.0            0.1238             0.1866           0.2416   \n",
              "2      1709.0            0.1444             0.4245           0.4504   \n",
              "3       567.7            0.2098             0.8663           0.6869   \n",
              "4      1575.0            0.1374             0.2050           0.4000   \n",
              "\n",
              "   worst concave points  worst symmetry  worst fractal dimension  \n",
              "0                0.2654          0.4601                  0.11890  \n",
              "1                0.1860          0.2750                  0.08902  \n",
              "2                0.2430          0.3613                  0.08758  \n",
              "3                0.2575          0.6638                  0.17300  \n",
              "4                0.1625          0.2364                  0.07678  \n",
              "\n",
              "[5 rows x 30 columns]"
            ],
            "text/html": [
              "\n",
              "  <div id=\"df-8e75f711-f70c-4113-9ad6-1879ab43c61e\" class=\"colab-df-container\">\n",
              "    <div>\n",
              "<style scoped>\n",
              "    .dataframe tbody tr th:only-of-type {\n",
              "        vertical-align: middle;\n",
              "    }\n",
              "\n",
              "    .dataframe tbody tr th {\n",
              "        vertical-align: top;\n",
              "    }\n",
              "\n",
              "    .dataframe thead th {\n",
              "        text-align: right;\n",
              "    }\n",
              "</style>\n",
              "<table border=\"1\" class=\"dataframe\">\n",
              "  <thead>\n",
              "    <tr style=\"text-align: right;\">\n",
              "      <th></th>\n",
              "      <th>mean radius</th>\n",
              "      <th>mean texture</th>\n",
              "      <th>mean perimeter</th>\n",
              "      <th>mean area</th>\n",
              "      <th>mean smoothness</th>\n",
              "      <th>mean compactness</th>\n",
              "      <th>mean concavity</th>\n",
              "      <th>mean concave points</th>\n",
              "      <th>mean symmetry</th>\n",
              "      <th>mean fractal dimension</th>\n",
              "      <th>...</th>\n",
              "      <th>worst radius</th>\n",
              "      <th>worst texture</th>\n",
              "      <th>worst perimeter</th>\n",
              "      <th>worst area</th>\n",
              "      <th>worst smoothness</th>\n",
              "      <th>worst compactness</th>\n",
              "      <th>worst concavity</th>\n",
              "      <th>worst concave points</th>\n",
              "      <th>worst symmetry</th>\n",
              "      <th>worst fractal dimension</th>\n",
              "    </tr>\n",
              "  </thead>\n",
              "  <tbody>\n",
              "    <tr>\n",
              "      <th>0</th>\n",
              "      <td>17.99</td>\n",
              "      <td>10.38</td>\n",
              "      <td>122.80</td>\n",
              "      <td>1001.0</td>\n",
              "      <td>0.11840</td>\n",
              "      <td>0.27760</td>\n",
              "      <td>0.3001</td>\n",
              "      <td>0.14710</td>\n",
              "      <td>0.2419</td>\n",
              "      <td>0.07871</td>\n",
              "      <td>...</td>\n",
              "      <td>25.38</td>\n",
              "      <td>17.33</td>\n",
              "      <td>184.60</td>\n",
              "      <td>2019.0</td>\n",
              "      <td>0.1622</td>\n",
              "      <td>0.6656</td>\n",
              "      <td>0.7119</td>\n",
              "      <td>0.2654</td>\n",
              "      <td>0.4601</td>\n",
              "      <td>0.11890</td>\n",
              "    </tr>\n",
              "    <tr>\n",
              "      <th>1</th>\n",
              "      <td>20.57</td>\n",
              "      <td>17.77</td>\n",
              "      <td>132.90</td>\n",
              "      <td>1326.0</td>\n",
              "      <td>0.08474</td>\n",
              "      <td>0.07864</td>\n",
              "      <td>0.0869</td>\n",
              "      <td>0.07017</td>\n",
              "      <td>0.1812</td>\n",
              "      <td>0.05667</td>\n",
              "      <td>...</td>\n",
              "      <td>24.99</td>\n",
              "      <td>23.41</td>\n",
              "      <td>158.80</td>\n",
              "      <td>1956.0</td>\n",
              "      <td>0.1238</td>\n",
              "      <td>0.1866</td>\n",
              "      <td>0.2416</td>\n",
              "      <td>0.1860</td>\n",
              "      <td>0.2750</td>\n",
              "      <td>0.08902</td>\n",
              "    </tr>\n",
              "    <tr>\n",
              "      <th>2</th>\n",
              "      <td>19.69</td>\n",
              "      <td>21.25</td>\n",
              "      <td>130.00</td>\n",
              "      <td>1203.0</td>\n",
              "      <td>0.10960</td>\n",
              "      <td>0.15990</td>\n",
              "      <td>0.1974</td>\n",
              "      <td>0.12790</td>\n",
              "      <td>0.2069</td>\n",
              "      <td>0.05999</td>\n",
              "      <td>...</td>\n",
              "      <td>23.57</td>\n",
              "      <td>25.53</td>\n",
              "      <td>152.50</td>\n",
              "      <td>1709.0</td>\n",
              "      <td>0.1444</td>\n",
              "      <td>0.4245</td>\n",
              "      <td>0.4504</td>\n",
              "      <td>0.2430</td>\n",
              "      <td>0.3613</td>\n",
              "      <td>0.08758</td>\n",
              "    </tr>\n",
              "    <tr>\n",
              "      <th>3</th>\n",
              "      <td>11.42</td>\n",
              "      <td>20.38</td>\n",
              "      <td>77.58</td>\n",
              "      <td>386.1</td>\n",
              "      <td>0.14250</td>\n",
              "      <td>0.28390</td>\n",
              "      <td>0.2414</td>\n",
              "      <td>0.10520</td>\n",
              "      <td>0.2597</td>\n",
              "      <td>0.09744</td>\n",
              "      <td>...</td>\n",
              "      <td>14.91</td>\n",
              "      <td>26.50</td>\n",
              "      <td>98.87</td>\n",
              "      <td>567.7</td>\n",
              "      <td>0.2098</td>\n",
              "      <td>0.8663</td>\n",
              "      <td>0.6869</td>\n",
              "      <td>0.2575</td>\n",
              "      <td>0.6638</td>\n",
              "      <td>0.17300</td>\n",
              "    </tr>\n",
              "    <tr>\n",
              "      <th>4</th>\n",
              "      <td>20.29</td>\n",
              "      <td>14.34</td>\n",
              "      <td>135.10</td>\n",
              "      <td>1297.0</td>\n",
              "      <td>0.10030</td>\n",
              "      <td>0.13280</td>\n",
              "      <td>0.1980</td>\n",
              "      <td>0.10430</td>\n",
              "      <td>0.1809</td>\n",
              "      <td>0.05883</td>\n",
              "      <td>...</td>\n",
              "      <td>22.54</td>\n",
              "      <td>16.67</td>\n",
              "      <td>152.20</td>\n",
              "      <td>1575.0</td>\n",
              "      <td>0.1374</td>\n",
              "      <td>0.2050</td>\n",
              "      <td>0.4000</td>\n",
              "      <td>0.1625</td>\n",
              "      <td>0.2364</td>\n",
              "      <td>0.07678</td>\n",
              "    </tr>\n",
              "  </tbody>\n",
              "</table>\n",
              "<p>5 rows × 30 columns</p>\n",
              "</div>\n",
              "    <div class=\"colab-df-buttons\">\n",
              "\n",
              "  <div class=\"colab-df-container\">\n",
              "    <button class=\"colab-df-convert\" onclick=\"convertToInteractive('df-8e75f711-f70c-4113-9ad6-1879ab43c61e')\"\n",
              "            title=\"Convert this dataframe to an interactive table.\"\n",
              "            style=\"display:none;\">\n",
              "\n",
              "  <svg xmlns=\"http://www.w3.org/2000/svg\" height=\"24px\" viewBox=\"0 -960 960 960\">\n",
              "    <path d=\"M120-120v-720h720v720H120Zm60-500h600v-160H180v160Zm220 220h160v-160H400v160Zm0 220h160v-160H400v160ZM180-400h160v-160H180v160Zm440 0h160v-160H620v160ZM180-180h160v-160H180v160Zm440 0h160v-160H620v160Z\"/>\n",
              "  </svg>\n",
              "    </button>\n",
              "\n",
              "  <style>\n",
              "    .colab-df-container {\n",
              "      display:flex;\n",
              "      gap: 12px;\n",
              "    }\n",
              "\n",
              "    .colab-df-convert {\n",
              "      background-color: #E8F0FE;\n",
              "      border: none;\n",
              "      border-radius: 50%;\n",
              "      cursor: pointer;\n",
              "      display: none;\n",
              "      fill: #1967D2;\n",
              "      height: 32px;\n",
              "      padding: 0 0 0 0;\n",
              "      width: 32px;\n",
              "    }\n",
              "\n",
              "    .colab-df-convert:hover {\n",
              "      background-color: #E2EBFA;\n",
              "      box-shadow: 0px 1px 2px rgba(60, 64, 67, 0.3), 0px 1px 3px 1px rgba(60, 64, 67, 0.15);\n",
              "      fill: #174EA6;\n",
              "    }\n",
              "\n",
              "    .colab-df-buttons div {\n",
              "      margin-bottom: 4px;\n",
              "    }\n",
              "\n",
              "    [theme=dark] .colab-df-convert {\n",
              "      background-color: #3B4455;\n",
              "      fill: #D2E3FC;\n",
              "    }\n",
              "\n",
              "    [theme=dark] .colab-df-convert:hover {\n",
              "      background-color: #434B5C;\n",
              "      box-shadow: 0px 1px 3px 1px rgba(0, 0, 0, 0.15);\n",
              "      filter: drop-shadow(0px 1px 2px rgba(0, 0, 0, 0.3));\n",
              "      fill: #FFFFFF;\n",
              "    }\n",
              "  </style>\n",
              "\n",
              "    <script>\n",
              "      const buttonEl =\n",
              "        document.querySelector('#df-8e75f711-f70c-4113-9ad6-1879ab43c61e button.colab-df-convert');\n",
              "      buttonEl.style.display =\n",
              "        google.colab.kernel.accessAllowed ? 'block' : 'none';\n",
              "\n",
              "      async function convertToInteractive(key) {\n",
              "        const element = document.querySelector('#df-8e75f711-f70c-4113-9ad6-1879ab43c61e');\n",
              "        const dataTable =\n",
              "          await google.colab.kernel.invokeFunction('convertToInteractive',\n",
              "                                                    [key], {});\n",
              "        if (!dataTable) return;\n",
              "\n",
              "        const docLinkHtml = 'Like what you see? Visit the ' +\n",
              "          '<a target=\"_blank\" href=https://colab.research.google.com/notebooks/data_table.ipynb>data table notebook</a>'\n",
              "          + ' to learn more about interactive tables.';\n",
              "        element.innerHTML = '';\n",
              "        dataTable['output_type'] = 'display_data';\n",
              "        await google.colab.output.renderOutput(dataTable, element);\n",
              "        const docLink = document.createElement('div');\n",
              "        docLink.innerHTML = docLinkHtml;\n",
              "        element.appendChild(docLink);\n",
              "      }\n",
              "    </script>\n",
              "  </div>\n",
              "\n",
              "\n",
              "    <div id=\"df-75077e1b-2187-4ca0-a7f8-5d7886fe8df6\">\n",
              "      <button class=\"colab-df-quickchart\" onclick=\"quickchart('df-75077e1b-2187-4ca0-a7f8-5d7886fe8df6')\"\n",
              "                title=\"Suggest charts\"\n",
              "                style=\"display:none;\">\n",
              "\n",
              "<svg xmlns=\"http://www.w3.org/2000/svg\" height=\"24px\"viewBox=\"0 0 24 24\"\n",
              "     width=\"24px\">\n",
              "    <g>\n",
              "        <path d=\"M19 3H5c-1.1 0-2 .9-2 2v14c0 1.1.9 2 2 2h14c1.1 0 2-.9 2-2V5c0-1.1-.9-2-2-2zM9 17H7v-7h2v7zm4 0h-2V7h2v10zm4 0h-2v-4h2v4z\"/>\n",
              "    </g>\n",
              "</svg>\n",
              "      </button>\n",
              "\n",
              "<style>\n",
              "  .colab-df-quickchart {\n",
              "      --bg-color: #E8F0FE;\n",
              "      --fill-color: #1967D2;\n",
              "      --hover-bg-color: #E2EBFA;\n",
              "      --hover-fill-color: #174EA6;\n",
              "      --disabled-fill-color: #AAA;\n",
              "      --disabled-bg-color: #DDD;\n",
              "  }\n",
              "\n",
              "  [theme=dark] .colab-df-quickchart {\n",
              "      --bg-color: #3B4455;\n",
              "      --fill-color: #D2E3FC;\n",
              "      --hover-bg-color: #434B5C;\n",
              "      --hover-fill-color: #FFFFFF;\n",
              "      --disabled-bg-color: #3B4455;\n",
              "      --disabled-fill-color: #666;\n",
              "  }\n",
              "\n",
              "  .colab-df-quickchart {\n",
              "    background-color: var(--bg-color);\n",
              "    border: none;\n",
              "    border-radius: 50%;\n",
              "    cursor: pointer;\n",
              "    display: none;\n",
              "    fill: var(--fill-color);\n",
              "    height: 32px;\n",
              "    padding: 0;\n",
              "    width: 32px;\n",
              "  }\n",
              "\n",
              "  .colab-df-quickchart:hover {\n",
              "    background-color: var(--hover-bg-color);\n",
              "    box-shadow: 0 1px 2px rgba(60, 64, 67, 0.3), 0 1px 3px 1px rgba(60, 64, 67, 0.15);\n",
              "    fill: var(--button-hover-fill-color);\n",
              "  }\n",
              "\n",
              "  .colab-df-quickchart-complete:disabled,\n",
              "  .colab-df-quickchart-complete:disabled:hover {\n",
              "    background-color: var(--disabled-bg-color);\n",
              "    fill: var(--disabled-fill-color);\n",
              "    box-shadow: none;\n",
              "  }\n",
              "\n",
              "  .colab-df-spinner {\n",
              "    border: 2px solid var(--fill-color);\n",
              "    border-color: transparent;\n",
              "    border-bottom-color: var(--fill-color);\n",
              "    animation:\n",
              "      spin 1s steps(1) infinite;\n",
              "  }\n",
              "\n",
              "  @keyframes spin {\n",
              "    0% {\n",
              "      border-color: transparent;\n",
              "      border-bottom-color: var(--fill-color);\n",
              "      border-left-color: var(--fill-color);\n",
              "    }\n",
              "    20% {\n",
              "      border-color: transparent;\n",
              "      border-left-color: var(--fill-color);\n",
              "      border-top-color: var(--fill-color);\n",
              "    }\n",
              "    30% {\n",
              "      border-color: transparent;\n",
              "      border-left-color: var(--fill-color);\n",
              "      border-top-color: var(--fill-color);\n",
              "      border-right-color: var(--fill-color);\n",
              "    }\n",
              "    40% {\n",
              "      border-color: transparent;\n",
              "      border-right-color: var(--fill-color);\n",
              "      border-top-color: var(--fill-color);\n",
              "    }\n",
              "    60% {\n",
              "      border-color: transparent;\n",
              "      border-right-color: var(--fill-color);\n",
              "    }\n",
              "    80% {\n",
              "      border-color: transparent;\n",
              "      border-right-color: var(--fill-color);\n",
              "      border-bottom-color: var(--fill-color);\n",
              "    }\n",
              "    90% {\n",
              "      border-color: transparent;\n",
              "      border-bottom-color: var(--fill-color);\n",
              "    }\n",
              "  }\n",
              "</style>\n",
              "\n",
              "      <script>\n",
              "        async function quickchart(key) {\n",
              "          const quickchartButtonEl =\n",
              "            document.querySelector('#' + key + ' button');\n",
              "          quickchartButtonEl.disabled = true;  // To prevent multiple clicks.\n",
              "          quickchartButtonEl.classList.add('colab-df-spinner');\n",
              "          try {\n",
              "            const charts = await google.colab.kernel.invokeFunction(\n",
              "                'suggestCharts', [key], {});\n",
              "          } catch (error) {\n",
              "            console.error('Error during call to suggestCharts:', error);\n",
              "          }\n",
              "          quickchartButtonEl.classList.remove('colab-df-spinner');\n",
              "          quickchartButtonEl.classList.add('colab-df-quickchart-complete');\n",
              "        }\n",
              "        (() => {\n",
              "          let quickchartButtonEl =\n",
              "            document.querySelector('#df-75077e1b-2187-4ca0-a7f8-5d7886fe8df6 button');\n",
              "          quickchartButtonEl.style.display =\n",
              "            google.colab.kernel.accessAllowed ? 'block' : 'none';\n",
              "        })();\n",
              "      </script>\n",
              "    </div>\n",
              "\n",
              "    </div>\n",
              "  </div>\n"
            ],
            "application/vnd.google.colaboratory.intrinsic+json": {
              "type": "dataframe",
              "variable_name": "data"
            }
          },
          "metadata": {},
          "execution_count": 56
        }
      ]
    },
    {
      "cell_type": "code",
      "source": [
        "#Adding Target to the dataset\n",
        "data['Target'] = dataset.target"
      ],
      "metadata": {
        "id": "QJEzqpZAhRjb"
      },
      "execution_count": 57,
      "outputs": []
    },
    {
      "cell_type": "code",
      "source": [
        "data.head()"
      ],
      "metadata": {
        "colab": {
          "base_uri": "https://localhost:8080/",
          "height": 290
        },
        "id": "unsf0LzPhdbP",
        "outputId": "a3ce822f-1223-4be7-c1cb-3da1b06a5c7c"
      },
      "execution_count": 58,
      "outputs": [
        {
          "output_type": "execute_result",
          "data": {
            "text/plain": [
              "   mean radius  mean texture  mean perimeter  mean area  mean smoothness  \\\n",
              "0        17.99         10.38          122.80     1001.0          0.11840   \n",
              "1        20.57         17.77          132.90     1326.0          0.08474   \n",
              "2        19.69         21.25          130.00     1203.0          0.10960   \n",
              "3        11.42         20.38           77.58      386.1          0.14250   \n",
              "4        20.29         14.34          135.10     1297.0          0.10030   \n",
              "\n",
              "   mean compactness  mean concavity  mean concave points  mean symmetry  \\\n",
              "0           0.27760          0.3001              0.14710         0.2419   \n",
              "1           0.07864          0.0869              0.07017         0.1812   \n",
              "2           0.15990          0.1974              0.12790         0.2069   \n",
              "3           0.28390          0.2414              0.10520         0.2597   \n",
              "4           0.13280          0.1980              0.10430         0.1809   \n",
              "\n",
              "   mean fractal dimension  ...  worst texture  worst perimeter  worst area  \\\n",
              "0                 0.07871  ...          17.33           184.60      2019.0   \n",
              "1                 0.05667  ...          23.41           158.80      1956.0   \n",
              "2                 0.05999  ...          25.53           152.50      1709.0   \n",
              "3                 0.09744  ...          26.50            98.87       567.7   \n",
              "4                 0.05883  ...          16.67           152.20      1575.0   \n",
              "\n",
              "   worst smoothness  worst compactness  worst concavity  worst concave points  \\\n",
              "0            0.1622             0.6656           0.7119                0.2654   \n",
              "1            0.1238             0.1866           0.2416                0.1860   \n",
              "2            0.1444             0.4245           0.4504                0.2430   \n",
              "3            0.2098             0.8663           0.6869                0.2575   \n",
              "4            0.1374             0.2050           0.4000                0.1625   \n",
              "\n",
              "   worst symmetry  worst fractal dimension  Target  \n",
              "0          0.4601                  0.11890       0  \n",
              "1          0.2750                  0.08902       0  \n",
              "2          0.3613                  0.08758       0  \n",
              "3          0.6638                  0.17300       0  \n",
              "4          0.2364                  0.07678       0  \n",
              "\n",
              "[5 rows x 31 columns]"
            ],
            "text/html": [
              "\n",
              "  <div id=\"df-169708bb-2dc1-4756-8a9f-22ff722cc634\" class=\"colab-df-container\">\n",
              "    <div>\n",
              "<style scoped>\n",
              "    .dataframe tbody tr th:only-of-type {\n",
              "        vertical-align: middle;\n",
              "    }\n",
              "\n",
              "    .dataframe tbody tr th {\n",
              "        vertical-align: top;\n",
              "    }\n",
              "\n",
              "    .dataframe thead th {\n",
              "        text-align: right;\n",
              "    }\n",
              "</style>\n",
              "<table border=\"1\" class=\"dataframe\">\n",
              "  <thead>\n",
              "    <tr style=\"text-align: right;\">\n",
              "      <th></th>\n",
              "      <th>mean radius</th>\n",
              "      <th>mean texture</th>\n",
              "      <th>mean perimeter</th>\n",
              "      <th>mean area</th>\n",
              "      <th>mean smoothness</th>\n",
              "      <th>mean compactness</th>\n",
              "      <th>mean concavity</th>\n",
              "      <th>mean concave points</th>\n",
              "      <th>mean symmetry</th>\n",
              "      <th>mean fractal dimension</th>\n",
              "      <th>...</th>\n",
              "      <th>worst texture</th>\n",
              "      <th>worst perimeter</th>\n",
              "      <th>worst area</th>\n",
              "      <th>worst smoothness</th>\n",
              "      <th>worst compactness</th>\n",
              "      <th>worst concavity</th>\n",
              "      <th>worst concave points</th>\n",
              "      <th>worst symmetry</th>\n",
              "      <th>worst fractal dimension</th>\n",
              "      <th>Target</th>\n",
              "    </tr>\n",
              "  </thead>\n",
              "  <tbody>\n",
              "    <tr>\n",
              "      <th>0</th>\n",
              "      <td>17.99</td>\n",
              "      <td>10.38</td>\n",
              "      <td>122.80</td>\n",
              "      <td>1001.0</td>\n",
              "      <td>0.11840</td>\n",
              "      <td>0.27760</td>\n",
              "      <td>0.3001</td>\n",
              "      <td>0.14710</td>\n",
              "      <td>0.2419</td>\n",
              "      <td>0.07871</td>\n",
              "      <td>...</td>\n",
              "      <td>17.33</td>\n",
              "      <td>184.60</td>\n",
              "      <td>2019.0</td>\n",
              "      <td>0.1622</td>\n",
              "      <td>0.6656</td>\n",
              "      <td>0.7119</td>\n",
              "      <td>0.2654</td>\n",
              "      <td>0.4601</td>\n",
              "      <td>0.11890</td>\n",
              "      <td>0</td>\n",
              "    </tr>\n",
              "    <tr>\n",
              "      <th>1</th>\n",
              "      <td>20.57</td>\n",
              "      <td>17.77</td>\n",
              "      <td>132.90</td>\n",
              "      <td>1326.0</td>\n",
              "      <td>0.08474</td>\n",
              "      <td>0.07864</td>\n",
              "      <td>0.0869</td>\n",
              "      <td>0.07017</td>\n",
              "      <td>0.1812</td>\n",
              "      <td>0.05667</td>\n",
              "      <td>...</td>\n",
              "      <td>23.41</td>\n",
              "      <td>158.80</td>\n",
              "      <td>1956.0</td>\n",
              "      <td>0.1238</td>\n",
              "      <td>0.1866</td>\n",
              "      <td>0.2416</td>\n",
              "      <td>0.1860</td>\n",
              "      <td>0.2750</td>\n",
              "      <td>0.08902</td>\n",
              "      <td>0</td>\n",
              "    </tr>\n",
              "    <tr>\n",
              "      <th>2</th>\n",
              "      <td>19.69</td>\n",
              "      <td>21.25</td>\n",
              "      <td>130.00</td>\n",
              "      <td>1203.0</td>\n",
              "      <td>0.10960</td>\n",
              "      <td>0.15990</td>\n",
              "      <td>0.1974</td>\n",
              "      <td>0.12790</td>\n",
              "      <td>0.2069</td>\n",
              "      <td>0.05999</td>\n",
              "      <td>...</td>\n",
              "      <td>25.53</td>\n",
              "      <td>152.50</td>\n",
              "      <td>1709.0</td>\n",
              "      <td>0.1444</td>\n",
              "      <td>0.4245</td>\n",
              "      <td>0.4504</td>\n",
              "      <td>0.2430</td>\n",
              "      <td>0.3613</td>\n",
              "      <td>0.08758</td>\n",
              "      <td>0</td>\n",
              "    </tr>\n",
              "    <tr>\n",
              "      <th>3</th>\n",
              "      <td>11.42</td>\n",
              "      <td>20.38</td>\n",
              "      <td>77.58</td>\n",
              "      <td>386.1</td>\n",
              "      <td>0.14250</td>\n",
              "      <td>0.28390</td>\n",
              "      <td>0.2414</td>\n",
              "      <td>0.10520</td>\n",
              "      <td>0.2597</td>\n",
              "      <td>0.09744</td>\n",
              "      <td>...</td>\n",
              "      <td>26.50</td>\n",
              "      <td>98.87</td>\n",
              "      <td>567.7</td>\n",
              "      <td>0.2098</td>\n",
              "      <td>0.8663</td>\n",
              "      <td>0.6869</td>\n",
              "      <td>0.2575</td>\n",
              "      <td>0.6638</td>\n",
              "      <td>0.17300</td>\n",
              "      <td>0</td>\n",
              "    </tr>\n",
              "    <tr>\n",
              "      <th>4</th>\n",
              "      <td>20.29</td>\n",
              "      <td>14.34</td>\n",
              "      <td>135.10</td>\n",
              "      <td>1297.0</td>\n",
              "      <td>0.10030</td>\n",
              "      <td>0.13280</td>\n",
              "      <td>0.1980</td>\n",
              "      <td>0.10430</td>\n",
              "      <td>0.1809</td>\n",
              "      <td>0.05883</td>\n",
              "      <td>...</td>\n",
              "      <td>16.67</td>\n",
              "      <td>152.20</td>\n",
              "      <td>1575.0</td>\n",
              "      <td>0.1374</td>\n",
              "      <td>0.2050</td>\n",
              "      <td>0.4000</td>\n",
              "      <td>0.1625</td>\n",
              "      <td>0.2364</td>\n",
              "      <td>0.07678</td>\n",
              "      <td>0</td>\n",
              "    </tr>\n",
              "  </tbody>\n",
              "</table>\n",
              "<p>5 rows × 31 columns</p>\n",
              "</div>\n",
              "    <div class=\"colab-df-buttons\">\n",
              "\n",
              "  <div class=\"colab-df-container\">\n",
              "    <button class=\"colab-df-convert\" onclick=\"convertToInteractive('df-169708bb-2dc1-4756-8a9f-22ff722cc634')\"\n",
              "            title=\"Convert this dataframe to an interactive table.\"\n",
              "            style=\"display:none;\">\n",
              "\n",
              "  <svg xmlns=\"http://www.w3.org/2000/svg\" height=\"24px\" viewBox=\"0 -960 960 960\">\n",
              "    <path d=\"M120-120v-720h720v720H120Zm60-500h600v-160H180v160Zm220 220h160v-160H400v160Zm0 220h160v-160H400v160ZM180-400h160v-160H180v160Zm440 0h160v-160H620v160ZM180-180h160v-160H180v160Zm440 0h160v-160H620v160Z\"/>\n",
              "  </svg>\n",
              "    </button>\n",
              "\n",
              "  <style>\n",
              "    .colab-df-container {\n",
              "      display:flex;\n",
              "      gap: 12px;\n",
              "    }\n",
              "\n",
              "    .colab-df-convert {\n",
              "      background-color: #E8F0FE;\n",
              "      border: none;\n",
              "      border-radius: 50%;\n",
              "      cursor: pointer;\n",
              "      display: none;\n",
              "      fill: #1967D2;\n",
              "      height: 32px;\n",
              "      padding: 0 0 0 0;\n",
              "      width: 32px;\n",
              "    }\n",
              "\n",
              "    .colab-df-convert:hover {\n",
              "      background-color: #E2EBFA;\n",
              "      box-shadow: 0px 1px 2px rgba(60, 64, 67, 0.3), 0px 1px 3px 1px rgba(60, 64, 67, 0.15);\n",
              "      fill: #174EA6;\n",
              "    }\n",
              "\n",
              "    .colab-df-buttons div {\n",
              "      margin-bottom: 4px;\n",
              "    }\n",
              "\n",
              "    [theme=dark] .colab-df-convert {\n",
              "      background-color: #3B4455;\n",
              "      fill: #D2E3FC;\n",
              "    }\n",
              "\n",
              "    [theme=dark] .colab-df-convert:hover {\n",
              "      background-color: #434B5C;\n",
              "      box-shadow: 0px 1px 3px 1px rgba(0, 0, 0, 0.15);\n",
              "      filter: drop-shadow(0px 1px 2px rgba(0, 0, 0, 0.3));\n",
              "      fill: #FFFFFF;\n",
              "    }\n",
              "  </style>\n",
              "\n",
              "    <script>\n",
              "      const buttonEl =\n",
              "        document.querySelector('#df-169708bb-2dc1-4756-8a9f-22ff722cc634 button.colab-df-convert');\n",
              "      buttonEl.style.display =\n",
              "        google.colab.kernel.accessAllowed ? 'block' : 'none';\n",
              "\n",
              "      async function convertToInteractive(key) {\n",
              "        const element = document.querySelector('#df-169708bb-2dc1-4756-8a9f-22ff722cc634');\n",
              "        const dataTable =\n",
              "          await google.colab.kernel.invokeFunction('convertToInteractive',\n",
              "                                                    [key], {});\n",
              "        if (!dataTable) return;\n",
              "\n",
              "        const docLinkHtml = 'Like what you see? Visit the ' +\n",
              "          '<a target=\"_blank\" href=https://colab.research.google.com/notebooks/data_table.ipynb>data table notebook</a>'\n",
              "          + ' to learn more about interactive tables.';\n",
              "        element.innerHTML = '';\n",
              "        dataTable['output_type'] = 'display_data';\n",
              "        await google.colab.output.renderOutput(dataTable, element);\n",
              "        const docLink = document.createElement('div');\n",
              "        docLink.innerHTML = docLinkHtml;\n",
              "        element.appendChild(docLink);\n",
              "      }\n",
              "    </script>\n",
              "  </div>\n",
              "\n",
              "\n",
              "    <div id=\"df-59c53728-b1d7-41bd-b8cb-c6fb246dccc9\">\n",
              "      <button class=\"colab-df-quickchart\" onclick=\"quickchart('df-59c53728-b1d7-41bd-b8cb-c6fb246dccc9')\"\n",
              "                title=\"Suggest charts\"\n",
              "                style=\"display:none;\">\n",
              "\n",
              "<svg xmlns=\"http://www.w3.org/2000/svg\" height=\"24px\"viewBox=\"0 0 24 24\"\n",
              "     width=\"24px\">\n",
              "    <g>\n",
              "        <path d=\"M19 3H5c-1.1 0-2 .9-2 2v14c0 1.1.9 2 2 2h14c1.1 0 2-.9 2-2V5c0-1.1-.9-2-2-2zM9 17H7v-7h2v7zm4 0h-2V7h2v10zm4 0h-2v-4h2v4z\"/>\n",
              "    </g>\n",
              "</svg>\n",
              "      </button>\n",
              "\n",
              "<style>\n",
              "  .colab-df-quickchart {\n",
              "      --bg-color: #E8F0FE;\n",
              "      --fill-color: #1967D2;\n",
              "      --hover-bg-color: #E2EBFA;\n",
              "      --hover-fill-color: #174EA6;\n",
              "      --disabled-fill-color: #AAA;\n",
              "      --disabled-bg-color: #DDD;\n",
              "  }\n",
              "\n",
              "  [theme=dark] .colab-df-quickchart {\n",
              "      --bg-color: #3B4455;\n",
              "      --fill-color: #D2E3FC;\n",
              "      --hover-bg-color: #434B5C;\n",
              "      --hover-fill-color: #FFFFFF;\n",
              "      --disabled-bg-color: #3B4455;\n",
              "      --disabled-fill-color: #666;\n",
              "  }\n",
              "\n",
              "  .colab-df-quickchart {\n",
              "    background-color: var(--bg-color);\n",
              "    border: none;\n",
              "    border-radius: 50%;\n",
              "    cursor: pointer;\n",
              "    display: none;\n",
              "    fill: var(--fill-color);\n",
              "    height: 32px;\n",
              "    padding: 0;\n",
              "    width: 32px;\n",
              "  }\n",
              "\n",
              "  .colab-df-quickchart:hover {\n",
              "    background-color: var(--hover-bg-color);\n",
              "    box-shadow: 0 1px 2px rgba(60, 64, 67, 0.3), 0 1px 3px 1px rgba(60, 64, 67, 0.15);\n",
              "    fill: var(--button-hover-fill-color);\n",
              "  }\n",
              "\n",
              "  .colab-df-quickchart-complete:disabled,\n",
              "  .colab-df-quickchart-complete:disabled:hover {\n",
              "    background-color: var(--disabled-bg-color);\n",
              "    fill: var(--disabled-fill-color);\n",
              "    box-shadow: none;\n",
              "  }\n",
              "\n",
              "  .colab-df-spinner {\n",
              "    border: 2px solid var(--fill-color);\n",
              "    border-color: transparent;\n",
              "    border-bottom-color: var(--fill-color);\n",
              "    animation:\n",
              "      spin 1s steps(1) infinite;\n",
              "  }\n",
              "\n",
              "  @keyframes spin {\n",
              "    0% {\n",
              "      border-color: transparent;\n",
              "      border-bottom-color: var(--fill-color);\n",
              "      border-left-color: var(--fill-color);\n",
              "    }\n",
              "    20% {\n",
              "      border-color: transparent;\n",
              "      border-left-color: var(--fill-color);\n",
              "      border-top-color: var(--fill-color);\n",
              "    }\n",
              "    30% {\n",
              "      border-color: transparent;\n",
              "      border-left-color: var(--fill-color);\n",
              "      border-top-color: var(--fill-color);\n",
              "      border-right-color: var(--fill-color);\n",
              "    }\n",
              "    40% {\n",
              "      border-color: transparent;\n",
              "      border-right-color: var(--fill-color);\n",
              "      border-top-color: var(--fill-color);\n",
              "    }\n",
              "    60% {\n",
              "      border-color: transparent;\n",
              "      border-right-color: var(--fill-color);\n",
              "    }\n",
              "    80% {\n",
              "      border-color: transparent;\n",
              "      border-right-color: var(--fill-color);\n",
              "      border-bottom-color: var(--fill-color);\n",
              "    }\n",
              "    90% {\n",
              "      border-color: transparent;\n",
              "      border-bottom-color: var(--fill-color);\n",
              "    }\n",
              "  }\n",
              "</style>\n",
              "\n",
              "      <script>\n",
              "        async function quickchart(key) {\n",
              "          const quickchartButtonEl =\n",
              "            document.querySelector('#' + key + ' button');\n",
              "          quickchartButtonEl.disabled = true;  // To prevent multiple clicks.\n",
              "          quickchartButtonEl.classList.add('colab-df-spinner');\n",
              "          try {\n",
              "            const charts = await google.colab.kernel.invokeFunction(\n",
              "                'suggestCharts', [key], {});\n",
              "          } catch (error) {\n",
              "            console.error('Error during call to suggestCharts:', error);\n",
              "          }\n",
              "          quickchartButtonEl.classList.remove('colab-df-spinner');\n",
              "          quickchartButtonEl.classList.add('colab-df-quickchart-complete');\n",
              "        }\n",
              "        (() => {\n",
              "          let quickchartButtonEl =\n",
              "            document.querySelector('#df-59c53728-b1d7-41bd-b8cb-c6fb246dccc9 button');\n",
              "          quickchartButtonEl.style.display =\n",
              "            google.colab.kernel.accessAllowed ? 'block' : 'none';\n",
              "        })();\n",
              "      </script>\n",
              "    </div>\n",
              "\n",
              "    </div>\n",
              "  </div>\n"
            ],
            "application/vnd.google.colaboratory.intrinsic+json": {
              "type": "dataframe",
              "variable_name": "data"
            }
          },
          "metadata": {},
          "execution_count": 58
        }
      ]
    },
    {
      "cell_type": "code",
      "source": [
        "data.shape"
      ],
      "metadata": {
        "colab": {
          "base_uri": "https://localhost:8080/"
        },
        "id": "SrQer7khheYa",
        "outputId": "914cf4aa-148c-4db4-d929-8c65741b70ac"
      },
      "execution_count": 59,
      "outputs": [
        {
          "output_type": "execute_result",
          "data": {
            "text/plain": [
              "(569, 31)"
            ]
          },
          "metadata": {},
          "execution_count": 59
        }
      ]
    },
    {
      "cell_type": "code",
      "source": [
        "data.info()"
      ],
      "metadata": {
        "colab": {
          "base_uri": "https://localhost:8080/"
        },
        "id": "tj8pTMxehsMP",
        "outputId": "0e75841b-c937-4379-ef7f-eb76140649fc"
      },
      "execution_count": 60,
      "outputs": [
        {
          "output_type": "stream",
          "name": "stdout",
          "text": [
            "<class 'pandas.core.frame.DataFrame'>\n",
            "RangeIndex: 569 entries, 0 to 568\n",
            "Data columns (total 31 columns):\n",
            " #   Column                   Non-Null Count  Dtype  \n",
            "---  ------                   --------------  -----  \n",
            " 0   mean radius              569 non-null    float64\n",
            " 1   mean texture             569 non-null    float64\n",
            " 2   mean perimeter           569 non-null    float64\n",
            " 3   mean area                569 non-null    float64\n",
            " 4   mean smoothness          569 non-null    float64\n",
            " 5   mean compactness         569 non-null    float64\n",
            " 6   mean concavity           569 non-null    float64\n",
            " 7   mean concave points      569 non-null    float64\n",
            " 8   mean symmetry            569 non-null    float64\n",
            " 9   mean fractal dimension   569 non-null    float64\n",
            " 10  radius error             569 non-null    float64\n",
            " 11  texture error            569 non-null    float64\n",
            " 12  perimeter error          569 non-null    float64\n",
            " 13  area error               569 non-null    float64\n",
            " 14  smoothness error         569 non-null    float64\n",
            " 15  compactness error        569 non-null    float64\n",
            " 16  concavity error          569 non-null    float64\n",
            " 17  concave points error     569 non-null    float64\n",
            " 18  symmetry error           569 non-null    float64\n",
            " 19  fractal dimension error  569 non-null    float64\n",
            " 20  worst radius             569 non-null    float64\n",
            " 21  worst texture            569 non-null    float64\n",
            " 22  worst perimeter          569 non-null    float64\n",
            " 23  worst area               569 non-null    float64\n",
            " 24  worst smoothness         569 non-null    float64\n",
            " 25  worst compactness        569 non-null    float64\n",
            " 26  worst concavity          569 non-null    float64\n",
            " 27  worst concave points     569 non-null    float64\n",
            " 28  worst symmetry           569 non-null    float64\n",
            " 29  worst fractal dimension  569 non-null    float64\n",
            " 30  Target                   569 non-null    int64  \n",
            "dtypes: float64(30), int64(1)\n",
            "memory usage: 137.9 KB\n"
          ]
        }
      ]
    },
    {
      "cell_type": "code",
      "source": [
        "X = data.drop('Target', axis=1)\n",
        "y = data['Target']"
      ],
      "metadata": {
        "id": "WQzhIGBshvkv"
      },
      "execution_count": 61,
      "outputs": []
    },
    {
      "cell_type": "code",
      "source": [
        "scaler = StandardScaler()\n",
        "X_scaled = scaler.fit_transform(X)"
      ],
      "metadata": {
        "id": "eQyG9P4Hh1sI"
      },
      "execution_count": 62,
      "outputs": []
    },
    {
      "cell_type": "code",
      "source": [
        "X_train, X_test, y_train, y_test = train_test_split(X_scaled, y, test_size=0.2, random_state=42, stratify=y)"
      ],
      "metadata": {
        "id": "3P-cle5Xh-pH"
      },
      "execution_count": 63,
      "outputs": []
    },
    {
      "cell_type": "code",
      "source": [
        "print(\"X Shape\", X.shape)\n",
        "print(\"X_train Shape\", X_train.shape)\n",
        "print(\"X_test Shape\", X_test.shape)"
      ],
      "metadata": {
        "colab": {
          "base_uri": "https://localhost:8080/"
        },
        "id": "2lBMEq3GiCiO",
        "outputId": "9b9432df-e4ab-4b86-8bd6-1c4e399f62c5"
      },
      "execution_count": 64,
      "outputs": [
        {
          "output_type": "stream",
          "name": "stdout",
          "text": [
            "X Shape (569, 30)\n",
            "X_train Shape (455, 30)\n",
            "X_test Shape (114, 30)\n"
          ]
        }
      ]
    },
    {
      "cell_type": "code",
      "source": [
        "data['Target'].value_counts()"
      ],
      "metadata": {
        "colab": {
          "base_uri": "https://localhost:8080/",
          "height": 178
        },
        "id": "wCRUqw8yiGTj",
        "outputId": "4aec3cd2-6cf0-4cfc-8e7a-0a18833b734f"
      },
      "execution_count": 65,
      "outputs": [
        {
          "output_type": "execute_result",
          "data": {
            "text/plain": [
              "Target\n",
              "1    357\n",
              "0    212\n",
              "Name: count, dtype: int64"
            ],
            "text/html": [
              "<div>\n",
              "<style scoped>\n",
              "    .dataframe tbody tr th:only-of-type {\n",
              "        vertical-align: middle;\n",
              "    }\n",
              "\n",
              "    .dataframe tbody tr th {\n",
              "        vertical-align: top;\n",
              "    }\n",
              "\n",
              "    .dataframe thead th {\n",
              "        text-align: right;\n",
              "    }\n",
              "</style>\n",
              "<table border=\"1\" class=\"dataframe\">\n",
              "  <thead>\n",
              "    <tr style=\"text-align: right;\">\n",
              "      <th></th>\n",
              "      <th>count</th>\n",
              "    </tr>\n",
              "    <tr>\n",
              "      <th>Target</th>\n",
              "      <th></th>\n",
              "    </tr>\n",
              "  </thead>\n",
              "  <tbody>\n",
              "    <tr>\n",
              "      <th>1</th>\n",
              "      <td>357</td>\n",
              "    </tr>\n",
              "    <tr>\n",
              "      <th>0</th>\n",
              "      <td>212</td>\n",
              "    </tr>\n",
              "  </tbody>\n",
              "</table>\n",
              "</div><br><label><b>dtype:</b> int64</label>"
            ]
          },
          "metadata": {},
          "execution_count": 65
        }
      ]
    },
    {
      "cell_type": "markdown",
      "source": [
        "Build The Neural Network"
      ],
      "metadata": {
        "id": "D7BYIcxFiU39"
      }
    },
    {
      "cell_type": "markdown",
      "source": [
        "![A-neural-network-with-2-hidden-layers.png](data:image/png;base64,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)"
      ],
      "metadata": {
        "id": "zpTRdZThi7km"
      }
    },
    {
      "cell_type": "code",
      "source": [
        "import tensorflow as tf\n",
        "from tensorflow import keras\n",
        "from tensorflow.keras import layers"
      ],
      "metadata": {
        "id": "kOpwNrC1iNBj"
      },
      "execution_count": 66,
      "outputs": []
    },
    {
      "cell_type": "code",
      "source": [
        "model = keras.Sequential([\n",
        "    layers.Input(shape=(X.shape[1],)),\n",
        "    layers.Dense(32, activation=\"relu\"),\n",
        "    layers.Dense(16, activation=\"relu\"),\n",
        "    layers.Dense(1, activation=\"sigmoid\")\n",
        "])"
      ],
      "metadata": {
        "id": "XZxijw0KicPF"
      },
      "execution_count": 67,
      "outputs": []
    },
    {
      "cell_type": "code",
      "source": [
        "model.compile(\n",
        "    loss=keras.losses.BinaryCrossentropy(),\n",
        "    optimizer=keras.optimizers.Adam(learning_rate=0.001),\n",
        "    metrics=[\"accuracy\"]\n",
        ")"
      ],
      "metadata": {
        "id": "Sl7LM3WDjk5t"
      },
      "execution_count": 68,
      "outputs": []
    },
    {
      "cell_type": "code",
      "source": [
        "history = model.fit(\n",
        "    X_train,\n",
        "    y_train,\n",
        "    batch_size=32,\n",
        "    epochs=50,\n",
        "    validation_data=(X_test, y_test)\n",
        ")"
      ],
      "metadata": {
        "colab": {
          "base_uri": "https://localhost:8080/"
        },
        "id": "ENCbfHP7jd8L",
        "outputId": "5641dc18-8632-490a-8126-a9594e3198f4"
      },
      "execution_count": 69,
      "outputs": [
        {
          "output_type": "stream",
          "name": "stdout",
          "text": [
            "Epoch 1/50\n",
            "\u001b[1m15/15\u001b[0m \u001b[32m━━━━━━━━━━━━━━━━━━━━\u001b[0m\u001b[37m\u001b[0m \u001b[1m1s\u001b[0m 19ms/step - accuracy: 0.7014 - loss: 0.5917 - val_accuracy: 0.9123 - val_loss: 0.4252\n",
            "Epoch 2/50\n",
            "\u001b[1m15/15\u001b[0m \u001b[32m━━━━━━━━━━━━━━━━━━━━\u001b[0m\u001b[37m\u001b[0m \u001b[1m0s\u001b[0m 7ms/step - accuracy: 0.9167 - loss: 0.3753 - val_accuracy: 0.9211 - val_loss: 0.2915\n",
            "Epoch 3/50\n",
            "\u001b[1m15/15\u001b[0m \u001b[32m━━━━━━━━━━━━━━━━━━━━\u001b[0m\u001b[37m\u001b[0m \u001b[1m0s\u001b[0m 7ms/step - accuracy: 0.9533 - loss: 0.2598 - val_accuracy: 0.9298 - val_loss: 0.2206\n",
            "Epoch 4/50\n",
            "\u001b[1m15/15\u001b[0m \u001b[32m━━━━━━━━━━━━━━━━━━━━\u001b[0m\u001b[37m\u001b[0m \u001b[1m0s\u001b[0m 7ms/step - accuracy: 0.9671 - loss: 0.1831 - val_accuracy: 0.9298 - val_loss: 0.1813\n",
            "Epoch 5/50\n",
            "\u001b[1m15/15\u001b[0m \u001b[32m━━━━━━━━━━━━━━━━━━━━\u001b[0m\u001b[37m\u001b[0m \u001b[1m0s\u001b[0m 7ms/step - accuracy: 0.9579 - loss: 0.1590 - val_accuracy: 0.9298 - val_loss: 0.1577\n",
            "Epoch 6/50\n",
            "\u001b[1m15/15\u001b[0m \u001b[32m━━━━━━━━━━━━━━━━━━━━\u001b[0m\u001b[37m\u001b[0m \u001b[1m0s\u001b[0m 9ms/step - accuracy: 0.9745 - loss: 0.1232 - val_accuracy: 0.9298 - val_loss: 0.1425\n",
            "Epoch 7/50\n",
            "\u001b[1m15/15\u001b[0m \u001b[32m━━━━━━━━━━━━━━━━━━━━\u001b[0m\u001b[37m\u001b[0m \u001b[1m0s\u001b[0m 7ms/step - accuracy: 0.9793 - loss: 0.0909 - val_accuracy: 0.9298 - val_loss: 0.1326\n",
            "Epoch 8/50\n",
            "\u001b[1m15/15\u001b[0m \u001b[32m━━━━━━━━━━━━━━━━━━━━\u001b[0m\u001b[37m\u001b[0m \u001b[1m0s\u001b[0m 7ms/step - accuracy: 0.9716 - loss: 0.1067 - val_accuracy: 0.9561 - val_loss: 0.1311\n",
            "Epoch 9/50\n",
            "\u001b[1m15/15\u001b[0m \u001b[32m━━━━━━━━━━━━━━━━━━━━\u001b[0m\u001b[37m\u001b[0m \u001b[1m0s\u001b[0m 7ms/step - accuracy: 0.9787 - loss: 0.0980 - val_accuracy: 0.9561 - val_loss: 0.1247\n",
            "Epoch 10/50\n",
            "\u001b[1m15/15\u001b[0m \u001b[32m━━━━━━━━━━━━━━━━━━━━\u001b[0m\u001b[37m\u001b[0m \u001b[1m0s\u001b[0m 7ms/step - accuracy: 0.9778 - loss: 0.0872 - val_accuracy: 0.9561 - val_loss: 0.1198\n",
            "Epoch 11/50\n",
            "\u001b[1m15/15\u001b[0m \u001b[32m━━━━━━━━━━━━━━━━━━━━\u001b[0m\u001b[37m\u001b[0m \u001b[1m0s\u001b[0m 8ms/step - accuracy: 0.9786 - loss: 0.0919 - val_accuracy: 0.9737 - val_loss: 0.1137\n",
            "Epoch 12/50\n",
            "\u001b[1m15/15\u001b[0m \u001b[32m━━━━━━━━━━━━━━━━━━━━\u001b[0m\u001b[37m\u001b[0m \u001b[1m0s\u001b[0m 7ms/step - accuracy: 0.9733 - loss: 0.0804 - val_accuracy: 0.9737 - val_loss: 0.1106\n",
            "Epoch 13/50\n",
            "\u001b[1m15/15\u001b[0m \u001b[32m━━━━━━━━━━━━━━━━━━━━\u001b[0m\u001b[37m\u001b[0m \u001b[1m0s\u001b[0m 8ms/step - accuracy: 0.9846 - loss: 0.0699 - val_accuracy: 0.9737 - val_loss: 0.1082\n",
            "Epoch 14/50\n",
            "\u001b[1m15/15\u001b[0m \u001b[32m━━━━━━━━━━━━━━━━━━━━\u001b[0m\u001b[37m\u001b[0m \u001b[1m0s\u001b[0m 7ms/step - accuracy: 0.9863 - loss: 0.0614 - val_accuracy: 0.9737 - val_loss: 0.1065\n",
            "Epoch 15/50\n",
            "\u001b[1m15/15\u001b[0m \u001b[32m━━━━━━━━━━━━━━━━━━━━\u001b[0m\u001b[37m\u001b[0m \u001b[1m0s\u001b[0m 7ms/step - accuracy: 0.9835 - loss: 0.0586 - val_accuracy: 0.9737 - val_loss: 0.1035\n",
            "Epoch 16/50\n",
            "\u001b[1m15/15\u001b[0m \u001b[32m━━━━━━━━━━━━━━━━━━━━\u001b[0m\u001b[37m\u001b[0m \u001b[1m0s\u001b[0m 7ms/step - accuracy: 0.9871 - loss: 0.0514 - val_accuracy: 0.9737 - val_loss: 0.1005\n",
            "Epoch 17/50\n",
            "\u001b[1m15/15\u001b[0m \u001b[32m━━━━━━━━━━━━━━━━━━━━\u001b[0m\u001b[37m\u001b[0m \u001b[1m0s\u001b[0m 7ms/step - accuracy: 0.9836 - loss: 0.0475 - val_accuracy: 0.9649 - val_loss: 0.0995\n",
            "Epoch 18/50\n",
            "\u001b[1m15/15\u001b[0m \u001b[32m━━━━━━━━━━━━━━━━━━━━\u001b[0m\u001b[37m\u001b[0m \u001b[1m0s\u001b[0m 7ms/step - accuracy: 0.9721 - loss: 0.0768 - val_accuracy: 0.9649 - val_loss: 0.0977\n",
            "Epoch 19/50\n",
            "\u001b[1m15/15\u001b[0m \u001b[32m━━━━━━━━━━━━━━━━━━━━\u001b[0m\u001b[37m\u001b[0m \u001b[1m0s\u001b[0m 7ms/step - accuracy: 0.9850 - loss: 0.0452 - val_accuracy: 0.9649 - val_loss: 0.0971\n",
            "Epoch 20/50\n",
            "\u001b[1m15/15\u001b[0m \u001b[32m━━━━━━━━━━━━━━━━━━━━\u001b[0m\u001b[37m\u001b[0m \u001b[1m0s\u001b[0m 7ms/step - accuracy: 0.9793 - loss: 0.0601 - val_accuracy: 0.9649 - val_loss: 0.0954\n",
            "Epoch 21/50\n",
            "\u001b[1m15/15\u001b[0m \u001b[32m━━━━━━━━━━━━━━━━━━━━\u001b[0m\u001b[37m\u001b[0m \u001b[1m0s\u001b[0m 8ms/step - accuracy: 0.9787 - loss: 0.0684 - val_accuracy: 0.9649 - val_loss: 0.0934\n",
            "Epoch 22/50\n",
            "\u001b[1m15/15\u001b[0m \u001b[32m━━━━━━━━━━━━━━━━━━━━\u001b[0m\u001b[37m\u001b[0m \u001b[1m0s\u001b[0m 7ms/step - accuracy: 0.9872 - loss: 0.0415 - val_accuracy: 0.9649 - val_loss: 0.0922\n",
            "Epoch 23/50\n",
            "\u001b[1m15/15\u001b[0m \u001b[32m━━━━━━━━━━━━━━━━━━━━\u001b[0m\u001b[37m\u001b[0m \u001b[1m0s\u001b[0m 7ms/step - accuracy: 0.9892 - loss: 0.0407 - val_accuracy: 0.9561 - val_loss: 0.0958\n",
            "Epoch 24/50\n",
            "\u001b[1m15/15\u001b[0m \u001b[32m━━━━━━━━━━━━━━━━━━━━\u001b[0m\u001b[37m\u001b[0m \u001b[1m0s\u001b[0m 7ms/step - accuracy: 0.9911 - loss: 0.0378 - val_accuracy: 0.9561 - val_loss: 0.0960\n",
            "Epoch 25/50\n",
            "\u001b[1m15/15\u001b[0m \u001b[32m━━━━━━━━━━━━━━━━━━━━\u001b[0m\u001b[37m\u001b[0m \u001b[1m0s\u001b[0m 7ms/step - accuracy: 0.9888 - loss: 0.0432 - val_accuracy: 0.9561 - val_loss: 0.0935\n",
            "Epoch 26/50\n",
            "\u001b[1m15/15\u001b[0m \u001b[32m━━━━━━━━━━━━━━━━━━━━\u001b[0m\u001b[37m\u001b[0m \u001b[1m0s\u001b[0m 7ms/step - accuracy: 0.9935 - loss: 0.0390 - val_accuracy: 0.9649 - val_loss: 0.0916\n",
            "Epoch 27/50\n",
            "\u001b[1m15/15\u001b[0m \u001b[32m━━━━━━━━━━━━━━━━━━━━\u001b[0m\u001b[37m\u001b[0m \u001b[1m0s\u001b[0m 7ms/step - accuracy: 0.9966 - loss: 0.0294 - val_accuracy: 0.9649 - val_loss: 0.0893\n",
            "Epoch 28/50\n",
            "\u001b[1m15/15\u001b[0m \u001b[32m━━━━━━━━━━━━━━━━━━━━\u001b[0m\u001b[37m\u001b[0m \u001b[1m0s\u001b[0m 7ms/step - accuracy: 0.9884 - loss: 0.0418 - val_accuracy: 0.9561 - val_loss: 0.0914\n",
            "Epoch 29/50\n",
            "\u001b[1m15/15\u001b[0m \u001b[32m━━━━━━━━━━━━━━━━━━━━\u001b[0m\u001b[37m\u001b[0m \u001b[1m0s\u001b[0m 7ms/step - accuracy: 0.9939 - loss: 0.0311 - val_accuracy: 0.9561 - val_loss: 0.0902\n",
            "Epoch 30/50\n",
            "\u001b[1m15/15\u001b[0m \u001b[32m━━━━━━━━━━━━━━━━━━━━\u001b[0m\u001b[37m\u001b[0m \u001b[1m0s\u001b[0m 9ms/step - accuracy: 0.9919 - loss: 0.0396 - val_accuracy: 0.9561 - val_loss: 0.0913\n",
            "Epoch 31/50\n",
            "\u001b[1m15/15\u001b[0m \u001b[32m━━━━━━━━━━━━━━━━━━━━\u001b[0m\u001b[37m\u001b[0m \u001b[1m0s\u001b[0m 12ms/step - accuracy: 0.9965 - loss: 0.0274 - val_accuracy: 0.9561 - val_loss: 0.0894\n",
            "Epoch 32/50\n",
            "\u001b[1m15/15\u001b[0m \u001b[32m━━━━━━━━━━━━━━━━━━━━\u001b[0m\u001b[37m\u001b[0m \u001b[1m0s\u001b[0m 11ms/step - accuracy: 0.9908 - loss: 0.0353 - val_accuracy: 0.9561 - val_loss: 0.0904\n",
            "Epoch 33/50\n",
            "\u001b[1m15/15\u001b[0m \u001b[32m━━━━━━━━━━━━━━━━━━━━\u001b[0m\u001b[37m\u001b[0m \u001b[1m0s\u001b[0m 10ms/step - accuracy: 0.9924 - loss: 0.0310 - val_accuracy: 0.9561 - val_loss: 0.0894\n",
            "Epoch 34/50\n",
            "\u001b[1m15/15\u001b[0m \u001b[32m━━━━━━━━━━━━━━━━━━━━\u001b[0m\u001b[37m\u001b[0m \u001b[1m0s\u001b[0m 13ms/step - accuracy: 0.9947 - loss: 0.0281 - val_accuracy: 0.9561 - val_loss: 0.0899\n",
            "Epoch 35/50\n",
            "\u001b[1m15/15\u001b[0m \u001b[32m━━━━━━━━━━━━━━━━━━━━\u001b[0m\u001b[37m\u001b[0m \u001b[1m0s\u001b[0m 12ms/step - accuracy: 0.9949 - loss: 0.0227 - val_accuracy: 0.9561 - val_loss: 0.0967\n",
            "Epoch 36/50\n",
            "\u001b[1m15/15\u001b[0m \u001b[32m━━━━━━━━━━━━━━━━━━━━\u001b[0m\u001b[37m\u001b[0m \u001b[1m0s\u001b[0m 10ms/step - accuracy: 0.9956 - loss: 0.0231 - val_accuracy: 0.9561 - val_loss: 0.0954\n",
            "Epoch 37/50\n",
            "\u001b[1m15/15\u001b[0m \u001b[32m━━━━━━━━━━━━━━━━━━━━\u001b[0m\u001b[37m\u001b[0m \u001b[1m0s\u001b[0m 10ms/step - accuracy: 0.9917 - loss: 0.0268 - val_accuracy: 0.9561 - val_loss: 0.0937\n",
            "Epoch 38/50\n",
            "\u001b[1m15/15\u001b[0m \u001b[32m━━━━━━━━━━━━━━━━━━━━\u001b[0m\u001b[37m\u001b[0m \u001b[1m0s\u001b[0m 12ms/step - accuracy: 0.9922 - loss: 0.0276 - val_accuracy: 0.9561 - val_loss: 0.0921\n",
            "Epoch 39/50\n",
            "\u001b[1m15/15\u001b[0m \u001b[32m━━━━━━━━━━━━━━━━━━━━\u001b[0m\u001b[37m\u001b[0m \u001b[1m0s\u001b[0m 13ms/step - accuracy: 0.9937 - loss: 0.0202 - val_accuracy: 0.9561 - val_loss: 0.0919\n",
            "Epoch 40/50\n",
            "\u001b[1m15/15\u001b[0m \u001b[32m━━━━━━━━━━━━━━━━━━━━\u001b[0m\u001b[37m\u001b[0m \u001b[1m0s\u001b[0m 14ms/step - accuracy: 0.9934 - loss: 0.0209 - val_accuracy: 0.9561 - val_loss: 0.0925\n",
            "Epoch 41/50\n",
            "\u001b[1m15/15\u001b[0m \u001b[32m━━━━━━━━━━━━━━━━━━━━\u001b[0m\u001b[37m\u001b[0m \u001b[1m0s\u001b[0m 11ms/step - accuracy: 0.9949 - loss: 0.0206 - val_accuracy: 0.9561 - val_loss: 0.0918\n",
            "Epoch 42/50\n",
            "\u001b[1m15/15\u001b[0m \u001b[32m━━━━━━━━━━━━━━━━━━━━\u001b[0m\u001b[37m\u001b[0m \u001b[1m0s\u001b[0m 7ms/step - accuracy: 0.9878 - loss: 0.0299 - val_accuracy: 0.9649 - val_loss: 0.0952\n",
            "Epoch 43/50\n",
            "\u001b[1m15/15\u001b[0m \u001b[32m━━━━━━━━━━━━━━━━━━━━\u001b[0m\u001b[37m\u001b[0m \u001b[1m0s\u001b[0m 7ms/step - accuracy: 0.9891 - loss: 0.0284 - val_accuracy: 0.9649 - val_loss: 0.0937\n",
            "Epoch 44/50\n",
            "\u001b[1m15/15\u001b[0m \u001b[32m━━━━━━━━━━━━━━━━━━━━\u001b[0m\u001b[37m\u001b[0m \u001b[1m0s\u001b[0m 7ms/step - accuracy: 0.9931 - loss: 0.0205 - val_accuracy: 0.9649 - val_loss: 0.0923\n",
            "Epoch 45/50\n",
            "\u001b[1m15/15\u001b[0m \u001b[32m━━━━━━━━━━━━━━━━━━━━\u001b[0m\u001b[37m\u001b[0m \u001b[1m0s\u001b[0m 8ms/step - accuracy: 0.9980 - loss: 0.0122 - val_accuracy: 0.9649 - val_loss: 0.0909\n",
            "Epoch 46/50\n",
            "\u001b[1m15/15\u001b[0m \u001b[32m━━━━━━━━━━━━━━━━━━━━\u001b[0m\u001b[37m\u001b[0m \u001b[1m0s\u001b[0m 7ms/step - accuracy: 0.9962 - loss: 0.0154 - val_accuracy: 0.9649 - val_loss: 0.0947\n",
            "Epoch 47/50\n",
            "\u001b[1m15/15\u001b[0m \u001b[32m━━━━━━━━━━━━━━━━━━━━\u001b[0m\u001b[37m\u001b[0m \u001b[1m0s\u001b[0m 7ms/step - accuracy: 0.9943 - loss: 0.0151 - val_accuracy: 0.9649 - val_loss: 0.0947\n",
            "Epoch 48/50\n",
            "\u001b[1m15/15\u001b[0m \u001b[32m━━━━━━━━━━━━━━━━━━━━\u001b[0m\u001b[37m\u001b[0m \u001b[1m0s\u001b[0m 8ms/step - accuracy: 0.9962 - loss: 0.0138 - val_accuracy: 0.9649 - val_loss: 0.0931\n",
            "Epoch 49/50\n",
            "\u001b[1m15/15\u001b[0m \u001b[32m━━━━━━━━━━━━━━━━━━━━\u001b[0m\u001b[37m\u001b[0m \u001b[1m0s\u001b[0m 7ms/step - accuracy: 0.9922 - loss: 0.0182 - val_accuracy: 0.9649 - val_loss: 0.0938\n",
            "Epoch 50/50\n",
            "\u001b[1m15/15\u001b[0m \u001b[32m━━━━━━━━━━━━━━━━━━━━\u001b[0m\u001b[37m\u001b[0m \u001b[1m0s\u001b[0m 7ms/step - accuracy: 0.9960 - loss: 0.0126 - val_accuracy: 0.9649 - val_loss: 0.0935\n"
          ]
        }
      ]
    },
    {
      "cell_type": "code",
      "source": [
        "loss, accuracy = model.evaluate(X_test, y_test)\n",
        "print(f\"Loss: {loss}, Accuracy: {accuracy}\")"
      ],
      "metadata": {
        "colab": {
          "base_uri": "https://localhost:8080/"
        },
        "id": "Gr3FzAjOjjLE",
        "outputId": "0f1d7535-d40d-445a-9eff-0f5b5dfd5a2b"
      },
      "execution_count": 70,
      "outputs": [
        {
          "output_type": "stream",
          "name": "stdout",
          "text": [
            "\u001b[1m4/4\u001b[0m \u001b[32m━━━━━━━━━━━━━━━━━━━━\u001b[0m\u001b[37m\u001b[0m \u001b[1m0s\u001b[0m 9ms/step - accuracy: 0.9620 - loss: 0.1044 \n",
            "Loss: 0.09345238655805588, Accuracy: 0.9649122953414917\n"
          ]
        }
      ]
    },
    {
      "cell_type": "code",
      "source": [
        "#Loss\n",
        "plt.figure(figsize=(10, 6))\n",
        "plt.plot(history.history['loss'], label='Training Loss')\n",
        "plt.plot(history.history['val_loss'], label='Validation Loss')\n",
        "plt.xlabel('Epoch')\n",
        "plt.ylabel('Loss')\n",
        "plt.legend()"
      ],
      "metadata": {
        "colab": {
          "base_uri": "https://localhost:8080/",
          "height": 560
        },
        "id": "tBTg5MQxj1bw",
        "outputId": "0dd16ee8-1cc7-4e2a-c266-26c460ae3469"
      },
      "execution_count": 71,
      "outputs": [
        {
          "output_type": "execute_result",
          "data": {
            "text/plain": [
              "<matplotlib.legend.Legend at 0x7d50392e8cb0>"
            ]
          },
          "metadata": {},
          "execution_count": 71
        },
        {
          "output_type": "display_data",
          "data": {
            "text/plain": [
              "<Figure size 1000x600 with 1 Axes>"
            ],
            "image/png": "[encoded data removed]"
          },
          "metadata": {}
        }
      ]
    },
    {
      "cell_type": "code",
      "source": [
        "#Accuracy Table\n",
        "plt.figure(figsize=(10, 6))\n",
        "plt.plot(history.history['accuracy'], label='Training Accuracy')\n",
        "plt.plot(history.history['val_accuracy'], label='Validation Accuracy')\n",
        "plt.xlabel('Epoch')\n",
        "plt.ylabel('Accuracy')"
      ],
      "metadata": {
        "colab": {
          "base_uri": "https://localhost:8080/",
          "height": 560
        },
        "id": "GtvM6ws2j43x",
        "outputId": "735abc4e-6e66-4e45-8d1d-293e01e52024"
      },
      "execution_count": 72,
      "outputs": [
        {
          "output_type": "execute_result",
          "data": {
            "text/plain": [
              "Text(0, 0.5, 'Accuracy')"
            ]
          },
          "metadata": {},
          "execution_count": 72
        },
        {
          "output_type": "display_data",
          "data": {
            "text/plain": [
              "<Figure size 1000x600 with 1 Axes>"
            ],
            "image/png": "[encoded data removed]"
          },
          "metadata": {}
        }
      ]
    },
    {
      "cell_type": "code",
      "source": [
        "#Prediction\n",
        "predictions = model.predict(X_test)"
      ],
      "metadata": {
        "colab": {
          "base_uri": "https://localhost:8080/"
        },
        "id": "7NjMMUPvkRbB",
        "outputId": "d6ac3e94-b9f2-437d-fdd5-d99309a33097"
      },
      "execution_count": 73,
      "outputs": [
        {
          "output_type": "stream",
          "name": "stdout",
          "text": [
            "\u001b[1m4/4\u001b[0m \u001b[32m━━━━━━━━━━━━━━━━━━━━\u001b[0m\u001b[37m\u001b[0m \u001b[1m0s\u001b[0m 17ms/step\n"
          ]
        }
      ]
    },
    {
      "cell_type": "code",
      "source": [
        "#Convert Predition into 0 and 1\n",
        "predictions = np.round(predictions).flatten()"
      ],
      "metadata": {
        "id": "QOyNp4brkfXf"
      },
      "execution_count": 74,
      "outputs": []
    },
    {
      "cell_type": "code",
      "source": [
        "#Draw heatmap with actual and predicted values\n",
        "cm = confusion_matrix(y_test, predictions)"
      ],
      "metadata": {
        "id": "pSFFj68RklLY"
      },
      "execution_count": 75,
      "outputs": []
    },
    {
      "cell_type": "code",
      "source": [
        "sns.heatmap(cm, annot=True, fmt='d', cmap='Blues', cbar=False)\n",
        "plt.xlabel('Predicted')\n",
        "plt.ylabel('Actual')\n",
        "plt.title('Confusion Matrix')"
      ],
      "metadata": {
        "colab": {
          "base_uri": "https://localhost:8080/",
          "height": 490
        },
        "id": "1lANAuySkqaY",
        "outputId": "91723949-811a-4fe9-e536-5d118d0ea964"
      },
      "execution_count": 76,
      "outputs": [
        {
          "output_type": "execute_result",
          "data": {
            "text/plain": [
              "Text(0.5, 1.0, 'Confusion Matrix')"
            ]
          },
          "metadata": {},
          "execution_count": 76
        },
        {
          "output_type": "display_data",
          "data": {
            "text/plain": [
              "<Figure size 640x480 with 1 Axes>"
            ],
            "image/png": "[encoded data removed]"
          },
          "metadata": {}
        }
      ]
    },
    {
      "cell_type": "code",
      "source": [
        "print(classification_report(y_test, predictions))"
      ],
      "metadata": {
        "colab": {
          "base_uri": "https://localhost:8080/"
        },
        "id": "j46zl-oGlYm2",
        "outputId": "70ae9a9b-f08d-494e-fd61-e140f761b036"
      },
      "execution_count": 78,
      "outputs": [
        {
          "output_type": "stream",
          "name": "stdout",
          "text": [
            "              precision    recall  f1-score   support\n",
            "\n",
            "           0       0.93      0.98      0.95        42\n",
            "           1       0.99      0.96      0.97        72\n",
            "\n",
            "    accuracy                           0.96       114\n",
            "   macro avg       0.96      0.97      0.96       114\n",
            "weighted avg       0.97      0.96      0.97       114\n",
            "\n"
          ]
        }
      ]
    },
    {
      "cell_type": "code",
      "source": [],
      "metadata": {
        "id": "gyql3MB6lank"
      },
      "execution_count": null,
      "outputs": []
    }
  ]
}